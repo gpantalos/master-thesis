{
 "cells": [
  {
   "cell_type": "code",
   "execution_count": null,
   "metadata": {},
   "outputs": [],
   "source": [
    "from matplotlib import pyplot as plt\n",
    "%matplotlib inline"
   ]
  },
  {
   "cell_type": "markdown",
   "metadata": {},
   "source": [
    "### Generate train and test data"
   ]
  },
  {
   "cell_type": "code",
   "execution_count": null,
   "metadata": {},
   "outputs": [],
   "source": [
    "from fpbnn.envs.sinusoids import Sinusoids\n",
    "\n",
    "# define a data-generating process\n",
    "data_generator = Sinusoids()\n",
    "\n",
    "# sample dataset\n",
    "train_data, test_data = data_generator.sample_train_test(15, 100)"
   ]
  },
  {
   "cell_type": "markdown",
   "metadata": {},
   "source": [
    "### Standard Baysian Neural Network as a baseline"
   ]
  },
  {
   "cell_type": "code",
   "execution_count": null,
   "metadata": {
    "scrolled": false
   },
   "outputs": [],
   "source": [
    "from fpbnn.models import VI\n",
    "\n",
    "# initialize model\n",
    "nn = VI(train_data=train_data, experiment=data_generator.name)\n",
    "\n",
    "# fit to training data\n",
    "nn.fit(plot=True, show=True, test_data=test_data, n_plots=10)\n",
    "\n",
    "# evaluate model\n",
    "nn.eval(*test_data, 'test')"
   ]
  },
  {
   "cell_type": "markdown",
   "metadata": {},
   "source": [
    "### Data-generating process as implicit prior"
   ]
  },
  {
   "cell_type": "code",
   "execution_count": null,
   "metadata": {
    "pycharm": {
     "name": "#%%\n"
    }
   },
   "outputs": [],
   "source": [
    "# initialize model\n",
    "from fpbnn.models import FVI\n",
    "\n",
    "nn = FVI(train_data=train_data,\n",
    "        functional_prior=data_generator,\n",
    "        experiment=data_generator.name)\n",
    "\n",
    "# fit to training data\n",
    "nn.fit(plot=True, show=True, test_data=test_data, n_plots=10)\n",
    "\n",
    "# evaluate model\n",
    "nn.eval(*test_data, 'test')"
   ]
  }
 ],
 "metadata": {
  "kernelspec": {
   "display_name": "Python 3 (ipykernel)",
   "language": "python",
   "name": "python3"
  },
  "language_info": {
   "codemirror_mode": {
    "name": "ipython",
    "version": 3
   },
   "file_extension": ".py",
   "mimetype": "text/x-python",
   "name": "python",
   "nbconvert_exporter": "python",
   "pygments_lexer": "ipython3",
   "version": "3.8.6"
  }
 },
 "nbformat": 4,
 "nbformat_minor": 1
}